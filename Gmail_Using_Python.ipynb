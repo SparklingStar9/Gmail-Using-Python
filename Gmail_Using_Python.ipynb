{
 "cells": [
  {
   "cell_type": "code",
   "execution_count": 1,
   "id": "4d6cde48",
   "metadata": {},
   "outputs": [],
   "source": [
    "#Create Mail\n",
    "from email.message import EmailMessage"
   ]
  },
  {
   "cell_type": "code",
   "execution_count": 2,
   "id": "e3776313",
   "metadata": {},
   "outputs": [],
   "source": [
    "newmail=EmailMessage()"
   ]
  },
  {
   "cell_type": "code",
   "execution_count": 3,
   "id": "bc01cf73",
   "metadata": {},
   "outputs": [],
   "source": [
    "newmail['Subject']=\"Python August 1 2023 5am\""
   ]
  },
  {
   "cell_type": "code",
   "execution_count": 4,
   "id": "23053bd9",
   "metadata": {},
   "outputs": [],
   "source": [
    "newmail['From']=\"\" # mention the sender's email-id"
   ]
  },
  {
   "cell_type": "code",
   "execution_count": 5,
   "id": "f47f2725",
   "metadata": {},
   "outputs": [],
   "source": [
    "newmail['To']=\"\"# mention the recipient's email-id"
   ]
  },
  {
   "cell_type": "code",
   "execution_count": 6,
   "id": "0aa33a39",
   "metadata": {},
   "outputs": [],
   "source": [
    "newmail.set_content(\"Hello, this is a mail sent on August 3, 2023\")"
   ]
  },
  {
   "cell_type": "code",
   "execution_count": 7,
   "id": "2a9337bb",
   "metadata": {},
   "outputs": [],
   "source": [
    "with open('Hat.jpg','rb') as f:\n",
    "    newmail.add_attachment(f.read(),maintype=\"image\",subtype='.jpg',filename=f.name)"
   ]
  },
  {
   "cell_type": "code",
   "execution_count": 8,
   "id": "f9d086b0",
   "metadata": {},
   "outputs": [],
   "source": [
    "b=newmail.as_bytes()"
   ]
  },
  {
   "cell_type": "code",
   "execution_count": 9,
   "id": "647856b6",
   "metadata": {},
   "outputs": [],
   "source": [
    "#encoding\n",
    "import base64"
   ]
  },
  {
   "cell_type": "code",
   "execution_count": 10,
   "id": "1a114446",
   "metadata": {},
   "outputs": [],
   "source": [
    "raw = base64.urlsafe_b64encode(b).decode()"
   ]
  },
  {
   "cell_type": "code",
   "execution_count": 11,
   "id": "8f8077ba",
   "metadata": {},
   "outputs": [],
   "source": [
    "final = {'raw':raw}"
   ]
  },
  {
   "cell_type": "code",
   "execution_count": 12,
   "id": "515c3984",
   "metadata": {},
   "outputs": [],
   "source": [
    "#2 Verify yourself on Google\n",
    "from google_auth_oauthlib.flow import InstalledAppFlow"
   ]
  },
  {
   "cell_type": "code",
   "execution_count": 14,
   "id": "a1ab2ea3",
   "metadata": {},
   "outputs": [],
   "source": [
    "flow = InstalledAppFlow.from_client_secrets_file('key.json',['https://mail.google.com/'])"
   ]
  },
  {
   "cell_type": "code",
   "execution_count": 1,
   "id": "c7bbfb34",
   "metadata": {
    "collapsed": true
   },
   "outputs": [
    {
     "ename": "NameError",
     "evalue": "name 'flow' is not defined",
     "output_type": "error",
     "traceback": [
      "\u001b[1;31m---------------------------------------------------------------------------\u001b[0m",
      "\u001b[1;31mNameError\u001b[0m                                 Traceback (most recent call last)",
      "Cell \u001b[1;32mIn[1], line 1\u001b[0m\n\u001b[1;32m----> 1\u001b[0m cred \u001b[38;5;241m=\u001b[39m\u001b[43mflow\u001b[49m\u001b[38;5;241m.\u001b[39mrun_local_server(port \u001b[38;5;241m=\u001b[39m \u001b[38;5;241m0\u001b[39m)\n",
      "\u001b[1;31mNameError\u001b[0m: name 'flow' is not defined"
     ]
    }
   ],
   "source": [
    "cred =flow.run_local_server(port = 0)"
   ]
  },
  {
   "cell_type": "code",
   "execution_count": 17,
   "id": "e1362348",
   "metadata": {},
   "outputs": [
    {
     "data": {
      "text/plain": [
       "<google.oauth2.credentials.Credentials at 0x1f896605810>"
      ]
     },
     "execution_count": 17,
     "metadata": {},
     "output_type": "execute_result"
    }
   ],
   "source": [
    "cred"
   ]
  },
  {
   "cell_type": "code",
   "execution_count": 19,
   "id": "e3f2f6ad",
   "metadata": {},
   "outputs": [],
   "source": [
    "#3.create the service which you want to use\n",
    "from googleapiclient.discovery import build"
   ]
  },
  {
   "cell_type": "code",
   "execution_count": 20,
   "id": "aea5675e",
   "metadata": {},
   "outputs": [],
   "source": [
    "service = build('gmail','v1',credentials = cred)"
   ]
  },
  {
   "cell_type": "code",
   "execution_count": 22,
   "id": "c01d91f3",
   "metadata": {
    "collapsed": true
   },
   "outputs": [
    {
     "data": {
      "text/plain": [
       "{'id': '189bbb92fbdac025',\n",
       " 'threadId': '189bbb92fbdac025',\n",
       " 'labelIds': ['SENT']}"
      ]
     },
     "execution_count": 22,
     "metadata": {},
     "output_type": "execute_result"
    }
   ],
   "source": [
    "#send the mail\n",
    "service.users().messages().send(userId=\"\", body = final).execute()# within the quotation marks; mention the recipient's email-id"
   ]
  },
  {
   "cell_type": "code",
   "execution_count": null,
   "id": "eeae889f",
   "metadata": {},
   "outputs": [],
   "source": []
  }
 ],
 "metadata": {
  "kernelspec": {
   "display_name": "Python 3 (ipykernel)",
   "language": "python",
   "name": "python3"
  },
  "language_info": {
   "codemirror_mode": {
    "name": "ipython",
    "version": 3
   },
   "file_extension": ".py",
   "mimetype": "text/x-python",
   "name": "python",
   "nbconvert_exporter": "python",
   "pygments_lexer": "ipython3",
   "version": "3.11.4"
  }
 },
 "nbformat": 4,
 "nbformat_minor": 5
}
