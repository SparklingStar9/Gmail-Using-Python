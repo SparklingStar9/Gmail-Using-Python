{
 "cells": [
  {
   "cell_type": "code",
   "execution_count": null,
   "id": "7d8c05e5",
   "metadata": {},
   "outputs": [],
   "source": [
    "#Create Mail\n",
    "from email.message import EmailMessage"
   ]
  },
  {
   "cell_type": "code",
   "execution_count": null,
   "id": "6a93b314",
   "metadata": {},
   "outputs": [],
   "source": [
    "newmail=EmailMessage()"
   ]
  },
  {
   "cell_type": "code",
   "execution_count": null,
   "id": "e013db55",
   "metadata": {},
   "outputs": [],
   "source": [
    "newmail['Subject']=\"Python August 1 2023 5am\""
   ]
  },
  {
   "cell_type": "code",
   "execution_count": null,
   "id": "d3925734",
   "metadata": {},
   "outputs": [],
   "source": [
    "newmail['From']=\"\" # mention the sender's email-id"
   ]
  },
  {
   "cell_type": "code",
   "execution_count": null,
   "id": "fde52959",
   "metadata": {},
   "outputs": [],
   "source": [
    "newmail['To']=\"\"# mention the recipient's email-id"
   ]
  },
  {
   "cell_type": "code",
   "execution_count": null,
   "id": "056b2b04",
   "metadata": {},
   "outputs": [],
   "source": [
    "newmail.set_content(\"Hello, this is a mail sent on August 3, 2023\")"
   ]
  },
  {
   "cell_type": "code",
   "execution_count": null,
   "id": "86612f62",
   "metadata": {},
   "outputs": [],
   "source": [
    "with open('Hat.jpg','rb') as f:\n",
    "    newmail.add_attachment(f.read(),maintype=\"image\",subtype='.jpg',filename=f.name)"
   ]
  },
  {
   "cell_type": "code",
   "execution_count": null,
   "id": "deaf91a6",
   "metadata": {},
   "outputs": [],
   "source": [
    "b=newmail.as_bytes()"
   ]
  },
  {
   "cell_type": "code",
   "execution_count": null,
   "id": "1c34221f",
   "metadata": {},
   "outputs": [],
   "source": [
    "#encoding\n",
    "import base64"
   ]
  },
  {
   "cell_type": "code",
   "execution_count": null,
   "id": "52181ff7",
   "metadata": {},
   "outputs": [],
   "source": [
    "raw = base64.urlsafe_b64encode(b).decode()"
   ]
  },
  {
   "cell_type": "code",
   "execution_count": null,
   "id": "c5086e92",
   "metadata": {},
   "outputs": [],
   "source": [
    "final = {'raw':raw}"
   ]
  },
  {
   "cell_type": "code",
   "execution_count": null,
   "id": "7d55e6a2",
   "metadata": {},
   "outputs": [],
   "source": [
    "#2 Verify yourself on Google\n",
    "from google_auth_oauthlib.flow import InstalledAppFlow"
   ]
  },
  {
   "cell_type": "code",
   "execution_count": null,
   "id": "f5ad346d",
   "metadata": {},
   "outputs": [],
   "source": [
    "flow = InstalledAppFlow.from_client_secrets_file('key.json',['https://mail.google.com/'])"
   ]
  },
  {
   "cell_type": "code",
   "execution_count": null,
   "id": "f1c1bfac",
   "metadata": {},
   "outputs": [],
   "source": [
    "cred =flow.run_local_server(port = 0)"
   ]
  },
  {
   "cell_type": "code",
   "execution_count": null,
   "id": "108885c5",
   "metadata": {},
   "outputs": [],
   "source": [
    "cred"
   ]
  },
  {
   "cell_type": "code",
   "execution_count": null,
   "id": "33d66158",
   "metadata": {},
   "outputs": [],
   "source": [
    "#3.create the service which you want to use\n",
    "from googleapiclient.discovery import build"
   ]
  },
  {
   "cell_type": "code",
   "execution_count": null,
   "id": "44a30293",
   "metadata": {},
   "outputs": [],
   "source": [
    "service = build('gmail','v1',credentials = cred)"
   ]
  },
  {
   "cell_type": "code",
   "execution_count": null,
   "id": "bf22b6e5",
   "metadata": {},
   "outputs": [],
   "source": [
    "#send the mail\n",
    "service.users().messages().send(userId=\"\", body = final).execute()# within the quotation marks; mention the recipient's email-id"
   ]
  }
 ],
 "metadata": {
  "kernelspec": {
   "display_name": "Python 3 (ipykernel)",
   "language": "python",
   "name": "python3"
  },
  "language_info": {
   "codemirror_mode": {
    "name": "ipython",
    "version": 3
   },
   "file_extension": ".py",
   "mimetype": "text/x-python",
   "name": "python",
   "nbconvert_exporter": "python",
   "pygments_lexer": "ipython3",
   "version": "3.11.4"
  }
 },
 "nbformat": 4,
 "nbformat_minor": 5
}
